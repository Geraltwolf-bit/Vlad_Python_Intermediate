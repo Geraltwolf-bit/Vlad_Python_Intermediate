{
 "cells": [
  {
   "cell_type": "code",
   "execution_count": 1,
   "id": "1a0706b4",
   "metadata": {
    "_cell_guid": "b1076dfc-b9ad-4769-8c92-a6c4dae69d19",
    "_uuid": "8f2839f25d086af736a60e9eeb907d3b93b6e0e5",
    "execution": {
     "iopub.execute_input": "2025-08-22T18:33:43.602351Z",
     "iopub.status.busy": "2025-08-22T18:33:43.601924Z",
     "iopub.status.idle": "2025-08-22T18:33:45.481410Z",
     "shell.execute_reply": "2025-08-22T18:33:45.480560Z"
    },
    "papermill": {
     "duration": 1.885303,
     "end_time": "2025-08-22T18:33:45.483188",
     "exception": false,
     "start_time": "2025-08-22T18:33:43.597885",
     "status": "completed"
    },
    "tags": []
   },
   "outputs": [],
   "source": [
    "# This Python 3 environment comes with many helpful analytics libraries installed\n",
    "# It is defined by the kaggle/python Docker image: https://github.com/kaggle/docker-python\n",
    "# For example, here's several helpful packages to load\n",
    "\n",
    "import numpy as np # linear algebra\n",
    "import pandas as pd # data processing, CSV file I/O (e.g. pd.read_csv)\n",
    "\n",
    "# Input data files are available in the read-only \"../input/\" directory\n",
    "# For example, running this (by clicking run or pressing Shift+Enter) will list all files under the input directory\n",
    "\n",
    "import os\n",
    "for dirname, _, filenames in os.walk('/kaggle/input'):\n",
    "    for filename in filenames:\n",
    "        print(os.path.join(dirname, filename))\n",
    "\n",
    "# You can write up to 20GB to the current directory (/kaggle/working/) that gets preserved as output when you create a version using \"Save & Run All\" \n",
    "# You can also write temporary files to /kaggle/temp/, but they won't be saved outside of the current session"
   ]
  },
  {
   "cell_type": "markdown",
   "id": "a8c2743d",
   "metadata": {
    "papermill": {
     "duration": 0.002024,
     "end_time": "2025-08-22T18:33:45.488047",
     "exception": false,
     "start_time": "2025-08-22T18:33:45.486023",
     "status": "completed"
    },
    "tags": []
   },
   "source": [
    "Functions: Task 1: Normalize data"
   ]
  },
  {
   "cell_type": "code",
   "execution_count": 2,
   "id": "521c519c",
   "metadata": {
    "execution": {
     "iopub.execute_input": "2025-08-22T18:33:45.494040Z",
     "iopub.status.busy": "2025-08-22T18:33:45.493484Z",
     "iopub.status.idle": "2025-08-22T18:33:45.501148Z",
     "shell.execute_reply": "2025-08-22T18:33:45.499438Z"
    },
    "papermill": {
     "duration": 0.012794,
     "end_time": "2025-08-22T18:33:45.503084",
     "exception": false,
     "start_time": "2025-08-22T18:33:45.490290",
     "status": "completed"
    },
    "tags": []
   },
   "outputs": [
    {
     "name": "stdout",
     "output_type": "stream",
     "text": [
      "[0.5, 0.25, 1.0, 0.0, 0.75, 0.375]\n"
     ]
    }
   ],
   "source": [
    "data = [500, 300, 900, 100, 700, 400]\n",
    "\n",
    "def normalize_data(d):\n",
    "  norm_data = []\n",
    "  for i in range(len(data)):\n",
    "    res = (data[i] - min(data)) / (max(data) - min(data))\n",
    "    norm_data.append(res)\n",
    "  return norm_data\n",
    "\n",
    "normalized_data = normalize_data(data)\n",
    "print(normalized_data)"
   ]
  },
  {
   "cell_type": "markdown",
   "id": "c36bd860",
   "metadata": {
    "papermill": {
     "duration": 0.002116,
     "end_time": "2025-08-22T18:33:45.507780",
     "exception": false,
     "start_time": "2025-08-22T18:33:45.505664",
     "status": "completed"
    },
    "tags": []
   },
   "source": [
    "Functions: Task 2: Wages"
   ]
  },
  {
   "cell_type": "code",
   "execution_count": 3,
   "id": "fe4d517e",
   "metadata": {
    "execution": {
     "iopub.execute_input": "2025-08-22T18:33:45.513776Z",
     "iopub.status.busy": "2025-08-22T18:33:45.513451Z",
     "iopub.status.idle": "2025-08-22T18:33:45.519541Z",
     "shell.execute_reply": "2025-08-22T18:33:45.518730Z"
    },
    "papermill": {
     "duration": 0.010821,
     "end_time": "2025-08-22T18:33:45.521075",
     "exception": false,
     "start_time": "2025-08-22T18:33:45.510254",
     "status": "completed"
    },
    "tags": []
   },
   "outputs": [
    {
     "name": "stdout",
     "output_type": "stream",
     "text": [
      "3200\n",
      "2450\n"
     ]
    }
   ],
   "source": [
    "def calculate_salary(hours_worked: int, hourly_rate: int, bonus: int = 0):\n",
    "  if hours_worked <= 160:\n",
    "    pay = hourly_rate * hours_worked + bonus\n",
    "  else:\n",
    "    pay = ((hours_worked - 160) * (hourly_rate * 1.5)) + (160 * hourly_rate) + bonus\n",
    "  return pay\n",
    "\n",
    "print(calculate_salary(20, 160))\n",
    "# Expected: 3200\n",
    "\n",
    "print(calculate_salary(15, 150, bonus=200))\n",
    "# Expected: 2450"
   ]
  },
  {
   "cell_type": "markdown",
   "id": "9738ac53",
   "metadata": {
    "papermill": {
     "duration": 0.002172,
     "end_time": "2025-08-22T18:33:45.525883",
     "exception": false,
     "start_time": "2025-08-22T18:33:45.523711",
     "status": "completed"
    },
    "tags": []
   },
   "source": [
    "Functions: Task 3: User data"
   ]
  },
  {
   "cell_type": "code",
   "execution_count": 4,
   "id": "7fbd5291",
   "metadata": {
    "execution": {
     "iopub.execute_input": "2025-08-22T18:33:45.532482Z",
     "iopub.status.busy": "2025-08-22T18:33:45.531583Z",
     "iopub.status.idle": "2025-08-22T18:33:45.538998Z",
     "shell.execute_reply": "2025-08-22T18:33:45.537820Z"
    },
    "papermill": {
     "duration": 0.012614,
     "end_time": "2025-08-22T18:33:45.540816",
     "exception": false,
     "start_time": "2025-08-22T18:33:45.528202",
     "status": "completed"
    },
    "tags": []
   },
   "outputs": [
    {
     "name": "stdout",
     "output_type": "stream",
     "text": [
      "User info for Mary:\n",
      "Name: Mary\n",
      "Age: 25\n",
      "Gender: female\n",
      "Income: 100000\n",
      "Location: Dallas\n"
     ]
    }
   ],
   "source": [
    "# storage data\n",
    "users = []\n",
    "\n",
    "#Create the dict where key is name and value is all other arguments provided by the user\n",
    "def add_user(**kwargs):\n",
    "  name = kwargs['name'] #create a variable \"name\" that will serve as a key in the future dictionary where the rest of the info will be stored\n",
    "  user_dict = {name: kwargs} #create a dictionary with key the variable \"name\" and values all other arguments provided to the function\n",
    "  users.append(user_dict) #stuff the global variable list \"users\" with dicts\n",
    "  return users #return the list\n",
    "\n",
    "def get_user_info(user_name):\n",
    "  print(f\"User info for {user_name}:\") #print the headline\n",
    "  for user in users: #loop through the list \"users\"\n",
    "    if user_name in user: #if the provided name is found in one of the dicts in the list \"users\"\n",
    "      user_data = user[user_name] #create new variable \"user_data\" and store there the dict with the key equal to the provided user_name\n",
    "      for key, value in user_data.items(): #break the found dict into items (key, value) and print the pair \"key: value\"\n",
    "        print(f\"{key.capitalize()}: {value}\")\n",
    " \t\t\n",
    "# input\n",
    "add_user(name=\"Alex\", age=30, gender=\"male\", income=50000, location=\"London\")\n",
    "add_user(name=\"Mary\", age=25, gender = 'female', income = 100000, location=\"Dallas\")\n",
    "# User Alex added.\n",
    "# User Mary added.\n",
    "\n",
    "get_user_info(\"Mary\")\n",
    "# User data Alex:\n",
    "#   Name: Alex\n",
    "#   Age: 30\n",
    "#   Gender: male\n",
    "#   Income: 50000\n",
    "#   Location: London"
   ]
  },
  {
   "cell_type": "markdown",
   "id": "ec8e0a9a",
   "metadata": {
    "papermill": {
     "duration": 0.002441,
     "end_time": "2025-08-22T18:33:45.546207",
     "exception": false,
     "start_time": "2025-08-22T18:33:45.543766",
     "status": "completed"
    },
    "tags": []
   },
   "source": [
    "Decorators: Task 1"
   ]
  },
  {
   "cell_type": "code",
   "execution_count": 5,
   "id": "76d4922d",
   "metadata": {
    "execution": {
     "iopub.execute_input": "2025-08-22T18:33:45.552373Z",
     "iopub.status.busy": "2025-08-22T18:33:45.552110Z",
     "iopub.status.idle": "2025-08-22T18:33:45.558399Z",
     "shell.execute_reply": "2025-08-22T18:33:45.557351Z"
    },
    "papermill": {
     "duration": 0.011565,
     "end_time": "2025-08-22T18:33:45.560393",
     "exception": false,
     "start_time": "2025-08-22T18:33:45.548828",
     "status": "completed"
    },
    "tags": []
   },
   "outputs": [
    {
     "name": "stdout",
     "output_type": "stream",
     "text": [
      "60\n",
      "None\n",
      "None\n"
     ]
    }
   ],
   "source": [
    "import time\n",
    "\n",
    "# decorator for time-logging\n",
    "def validate_and_time(func):\n",
    "    def wrapper(*args):\n",
    "      if len(args) > 0 and all([isinstance(x, int) for x in args]):\n",
    "        return func(*args)\n",
    "    return wrapper\n",
    "\n",
    "@validate_and_time\n",
    "def calculate_sum(*args):\n",
    "    return sum(args)\n",
    "\n",
    "# Function-call (correct)\n",
    "a = calculate_sum(10, 20, 30)\n",
    "print(a)\n",
    "\n",
    "# Function-call (no arguments)\n",
    "b = calculate_sum()\n",
    "print(b)\n",
    "\n",
    "# Function-call (incorrect)\n",
    "c = calculate_sum(10, '20', 30)\n",
    "print(c)"
   ]
  },
  {
   "cell_type": "markdown",
   "id": "e8f0b132",
   "metadata": {
    "papermill": {
     "duration": 0.002166,
     "end_time": "2025-08-22T18:33:45.565184",
     "exception": false,
     "start_time": "2025-08-22T18:33:45.563018",
     "status": "completed"
    },
    "tags": []
   },
   "source": [
    "Validating data:"
   ]
  },
  {
   "cell_type": "code",
   "execution_count": 6,
   "id": "bb48dace",
   "metadata": {
    "execution": {
     "iopub.execute_input": "2025-08-22T18:33:45.572346Z",
     "iopub.status.busy": "2025-08-22T18:33:45.571935Z",
     "iopub.status.idle": "2025-08-22T18:33:45.581856Z",
     "shell.execute_reply": "2025-08-22T18:33:45.580983Z"
    },
    "papermill": {
     "duration": 0.015593,
     "end_time": "2025-08-22T18:33:45.583319",
     "exception": false,
     "start_time": "2025-08-22T18:33:45.567726",
     "status": "completed"
    },
    "tags": []
   },
   "outputs": [
    {
     "name": "stdout",
     "output_type": "stream",
     "text": [
      "Sales report per category:\n",
      "{'Electronics': 500, 'Clothes': 150, 'Groceries': 50}\n",
      "\n",
      "\n",
      "Errors detected in the data:\n",
      "Index 4 has no value, but has None\n",
      "Index 5 has no number, but has two\n",
      "Index 6 is not a dict\n"
     ]
    }
   ],
   "source": [
    "data = [\n",
    "    {'Category': 'Electronics', 'Sum': 200},\n",
    "    {'Category': 'Clothes', 'Sum': 150},\n",
    "    {'Category': 'Electronics', 'Sum': 300},\n",
    "    {'Category': 'Groceries', 'Sum': 50},\n",
    "    {'Category': 'Clothes', 'Sum': None},  # Error: no sum\n",
    "    {'Category': 'Electronics', 'Sum': 'two'},  # Error: no int\n",
    "    'Bad record'  # Error: no dict\n",
    "]\n",
    "\n",
    "def analyse_sales(data):\n",
    "  sum_el = 0\n",
    "  sum_cl = 0\n",
    "  sum_gr = 0\n",
    "  error = []\n",
    "  for i in range(len(data)):\n",
    "    if not isinstance(data[i], dict):\n",
    "      error.append(f\"Index {i} is not a dict\")\n",
    "    elif isinstance(data[i], dict):\n",
    "      if data[i]['Sum'] is None:\n",
    "        error.append(f\"Index {i} has no value, but has {data[i]['Sum']}\")\n",
    "      elif not isinstance(data[i]['Sum'], int):\n",
    "        error.append(f\"Index {i} has no number, but has {data[i]['Sum']}\")\n",
    "      elif isinstance(data[i]['Sum'], int):\n",
    "        value = data[i]['Sum']\n",
    "        if data[i]['Category']=='Electronics':\n",
    "          sum_el += value\n",
    "        elif data[i]['Category']=='Clothes':\n",
    "          sum_cl += value\n",
    "        elif data[i]['Category']=='Groceries':\n",
    "          sum_gr += value\n",
    "      \n",
    "  keys = ['Electronics', 'Clothes', 'Groceries']\n",
    "  values = [sum_el, sum_cl, sum_gr]\n",
    "    \n",
    "  res = dict(zip(keys, values))\n",
    "  print(\"Sales report per category:\")\n",
    "  print(res)\n",
    "  print(\"\\n\")\n",
    "  print(\"Errors detected in the data:\")\n",
    "  for e in error:\n",
    "    print(e)\n",
    "\n",
    "sales_result = analyse_sales(data)"
   ]
  }
 ],
 "metadata": {
  "kaggle": {
   "accelerator": "none",
   "dataSources": [],
   "dockerImageVersionId": 31089,
   "isGpuEnabled": false,
   "isInternetEnabled": true,
   "language": "python",
   "sourceType": "notebook"
  },
  "kernelspec": {
   "display_name": "Python 3",
   "language": "python",
   "name": "python3"
  },
  "language_info": {
   "codemirror_mode": {
    "name": "ipython",
    "version": 3
   },
   "file_extension": ".py",
   "mimetype": "text/x-python",
   "name": "python",
   "nbconvert_exporter": "python",
   "pygments_lexer": "ipython3",
   "version": "3.11.13"
  },
  "papermill": {
   "default_parameters": {},
   "duration": 7.878153,
   "end_time": "2025-08-22T18:33:46.105673",
   "environment_variables": {},
   "exception": null,
   "input_path": "__notebook__.ipynb",
   "output_path": "__notebook__.ipynb",
   "parameters": {},
   "start_time": "2025-08-22T18:33:38.227520",
   "version": "2.6.0"
  }
 },
 "nbformat": 4,
 "nbformat_minor": 5
}
