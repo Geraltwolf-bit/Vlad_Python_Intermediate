{
 "cells": [
  {
   "cell_type": "code",
   "execution_count": 1,
   "id": "6e5bc026",
   "metadata": {
    "_cell_guid": "b1076dfc-b9ad-4769-8c92-a6c4dae69d19",
    "_uuid": "8f2839f25d086af736a60e9eeb907d3b93b6e0e5",
    "execution": {
     "iopub.execute_input": "2025-08-21T19:40:44.380196Z",
     "iopub.status.busy": "2025-08-21T19:40:44.379469Z",
     "iopub.status.idle": "2025-08-21T19:40:46.615157Z",
     "shell.execute_reply": "2025-08-21T19:40:46.614393Z"
    },
    "papermill": {
     "duration": 2.240893,
     "end_time": "2025-08-21T19:40:46.616863",
     "exception": false,
     "start_time": "2025-08-21T19:40:44.375970",
     "status": "completed"
    },
    "tags": []
   },
   "outputs": [],
   "source": [
    "# This Python 3 environment comes with many helpful analytics libraries installed\n",
    "# It is defined by the kaggle/python Docker image: https://github.com/kaggle/docker-python\n",
    "# For example, here's several helpful packages to load\n",
    "\n",
    "import numpy as np # linear algebra\n",
    "import pandas as pd # data processing, CSV file I/O (e.g. pd.read_csv)\n",
    "\n",
    "# Input data files are available in the read-only \"../input/\" directory\n",
    "# For example, running this (by clicking run or pressing Shift+Enter) will list all files under the input directory\n",
    "\n",
    "import os\n",
    "for dirname, _, filenames in os.walk('/kaggle/input'):\n",
    "    for filename in filenames:\n",
    "        print(os.path.join(dirname, filename))\n",
    "\n",
    "# You can write up to 20GB to the current directory (/kaggle/working/) that gets preserved as output when you create a version using \"Save & Run All\" \n",
    "# You can also write temporary files to /kaggle/temp/, but they won't be saved outside of the current session"
   ]
  },
  {
   "cell_type": "markdown",
   "id": "70e378fa",
   "metadata": {
    "papermill": {
     "duration": 0.001415,
     "end_time": "2025-08-21T19:40:46.620725",
     "exception": false,
     "start_time": "2025-08-21T19:40:46.619310",
     "status": "completed"
    },
    "tags": []
   },
   "source": [
    "Functions: Task 1: Normalize data"
   ]
  },
  {
   "cell_type": "code",
   "execution_count": 2,
   "id": "f83122ed",
   "metadata": {
    "execution": {
     "iopub.execute_input": "2025-08-21T19:40:46.625066Z",
     "iopub.status.busy": "2025-08-21T19:40:46.624690Z",
     "iopub.status.idle": "2025-08-21T19:40:46.630914Z",
     "shell.execute_reply": "2025-08-21T19:40:46.629851Z"
    },
    "papermill": {
     "duration": 0.010123,
     "end_time": "2025-08-21T19:40:46.632398",
     "exception": false,
     "start_time": "2025-08-21T19:40:46.622275",
     "status": "completed"
    },
    "tags": []
   },
   "outputs": [
    {
     "name": "stdout",
     "output_type": "stream",
     "text": [
      "[0.5, 0.25, 1.0, 0.0, 0.75, 0.375]\n"
     ]
    }
   ],
   "source": [
    "data = [500, 300, 900, 100, 700, 400]\n",
    "\n",
    "def normalize_data(d):\n",
    "  norm_data = []\n",
    "  for i in range(len(data)):\n",
    "    res = (data[i] - min(data)) / (max(data) - min(data))\n",
    "    norm_data.append(res)\n",
    "  return norm_data\n",
    "\n",
    "normalized_data = normalize_data(data)\n",
    "print(normalized_data)"
   ]
  },
  {
   "cell_type": "markdown",
   "id": "7fd4fcf1",
   "metadata": {
    "papermill": {
     "duration": 0.001476,
     "end_time": "2025-08-21T19:40:46.635904",
     "exception": false,
     "start_time": "2025-08-21T19:40:46.634428",
     "status": "completed"
    },
    "tags": []
   },
   "source": [
    "Functions: Task 2: Wages"
   ]
  },
  {
   "cell_type": "code",
   "execution_count": 3,
   "id": "6d90a677",
   "metadata": {
    "execution": {
     "iopub.execute_input": "2025-08-21T19:40:46.640392Z",
     "iopub.status.busy": "2025-08-21T19:40:46.640093Z",
     "iopub.status.idle": "2025-08-21T19:40:46.645681Z",
     "shell.execute_reply": "2025-08-21T19:40:46.644663Z"
    },
    "papermill": {
     "duration": 0.009965,
     "end_time": "2025-08-21T19:40:46.647414",
     "exception": false,
     "start_time": "2025-08-21T19:40:46.637449",
     "status": "completed"
    },
    "tags": []
   },
   "outputs": [
    {
     "name": "stdout",
     "output_type": "stream",
     "text": [
      "3200\n",
      "2450\n"
     ]
    }
   ],
   "source": [
    "def calculate_salary(hours_worked: int, hourly_rate: int, bonus: int = 0):\n",
    "  if hours_worked <= 160:\n",
    "    pay = hourly_rate * hours_worked + bonus\n",
    "  else:\n",
    "    pay = ((hours_worked - 160) * (hourly_rate * 1.5)) + (160 * hourly_rate) + bonus\n",
    "  return pay\n",
    "\n",
    "print(calculate_salary(20, 160))\n",
    "# Expected: 3200\n",
    "\n",
    "print(calculate_salary(15, 150, bonus=200))\n",
    "# Expected: 2450"
   ]
  },
  {
   "cell_type": "markdown",
   "id": "948d815f",
   "metadata": {
    "papermill": {
     "duration": 0.001504,
     "end_time": "2025-08-21T19:40:46.650992",
     "exception": false,
     "start_time": "2025-08-21T19:40:46.649488",
     "status": "completed"
    },
    "tags": []
   },
   "source": [
    "Functions: Task 3: User data"
   ]
  },
  {
   "cell_type": "code",
   "execution_count": 4,
   "id": "e69e17de",
   "metadata": {
    "execution": {
     "iopub.execute_input": "2025-08-21T19:40:46.655468Z",
     "iopub.status.busy": "2025-08-21T19:40:46.655187Z",
     "iopub.status.idle": "2025-08-21T19:40:46.662383Z",
     "shell.execute_reply": "2025-08-21T19:40:46.660943Z"
    },
    "papermill": {
     "duration": 0.011347,
     "end_time": "2025-08-21T19:40:46.663918",
     "exception": false,
     "start_time": "2025-08-21T19:40:46.652571",
     "status": "completed"
    },
    "tags": []
   },
   "outputs": [
    {
     "name": "stdout",
     "output_type": "stream",
     "text": [
      "User info for Mary:\n",
      "Name: Mary\n",
      "Age: 25\n",
      "Gender: female\n",
      "Income: 100000\n",
      "Location: Dallas\n"
     ]
    }
   ],
   "source": [
    "# storage data\n",
    "users = []\n",
    "\n",
    "#Create the dict where key is name and value is all other arguments provided by the user\n",
    "def add_user(**kwargs):\n",
    "  name = kwargs['name'] #create a variable \"name\" that will serve as a key in the future dictionary where the rest of the info will be stored\n",
    "  user_dict = {name: kwargs} #create a dictionary with key the variable \"name\" and values all other arguments provided to the function\n",
    "  users.append(user_dict) #stuff the global variable list \"users\" with dicts\n",
    "  return users #return the list\n",
    "\n",
    "def get_user_info(user_name):\n",
    "  print(f\"User info for {user_name}:\") #print the headline\n",
    "  for user in users: #loop through the list \"users\"\n",
    "    if user_name in user: #if the provided name is found in one of the dicts in the list \"users\"\n",
    "      user_data = user[user_name] #create new variable \"user_data\" and store there the dict with the key equal to the provided user_name\n",
    "      for key, value in user_data.items(): #break the found dict into items (key, value) and print the pair \"key: value\"\n",
    "        print(f\"{key.capitalize()}: {value}\")\n",
    " \t\t\n",
    "# input\n",
    "add_user(name=\"Alex\", age=30, gender=\"male\", income=50000, location=\"London\")\n",
    "add_user(name=\"Mary\", age=25, gender = 'female', income = 100000, location=\"Dallas\")\n",
    "# User Alex added.\n",
    "# User Mary added.\n",
    "\n",
    "get_user_info(\"Mary\")\n",
    "# User data Alex:\n",
    "#   Name: Alex\n",
    "#   Age: 30\n",
    "#   Gender: male\n",
    "#   Income: 50000\n",
    "#   Location: London"
   ]
  },
  {
   "cell_type": "markdown",
   "id": "64840149",
   "metadata": {
    "papermill": {
     "duration": 0.0016,
     "end_time": "2025-08-21T19:40:46.667707",
     "exception": false,
     "start_time": "2025-08-21T19:40:46.666107",
     "status": "completed"
    },
    "tags": []
   },
   "source": [
    "Decorators: Task 1"
   ]
  },
  {
   "cell_type": "code",
   "execution_count": 5,
   "id": "81282e0d",
   "metadata": {
    "execution": {
     "iopub.execute_input": "2025-08-21T19:40:46.672225Z",
     "iopub.status.busy": "2025-08-21T19:40:46.671989Z",
     "iopub.status.idle": "2025-08-21T19:40:46.677631Z",
     "shell.execute_reply": "2025-08-21T19:40:46.676789Z"
    },
    "papermill": {
     "duration": 0.009243,
     "end_time": "2025-08-21T19:40:46.678707",
     "exception": false,
     "start_time": "2025-08-21T19:40:46.669464",
     "status": "completed"
    },
    "tags": []
   },
   "outputs": [
    {
     "name": "stdout",
     "output_type": "stream",
     "text": [
      "60\n",
      "None\n",
      "None\n"
     ]
    }
   ],
   "source": [
    "import time\n",
    "\n",
    "# decorator for time-logging\n",
    "def validate_and_time(func):\n",
    "    def wrapper(*args):\n",
    "      if len(args) > 0 and all([isinstance(x, int) for x in args]):\n",
    "        return func(*args)\n",
    "    return wrapper\n",
    "\n",
    "@validate_and_time\n",
    "def calculate_sum(*args):\n",
    "    return sum(args)\n",
    "\n",
    "# Function-call (correct)\n",
    "a = calculate_sum(10, 20, 30)\n",
    "print(a)\n",
    "\n",
    "# Function-call (no arguments)\n",
    "b = calculate_sum()\n",
    "print(b)\n",
    "\n",
    "# Function-call (incorrect)\n",
    "c = calculate_sum(10, '20', 30)\n",
    "print(c)"
   ]
  }
 ],
 "metadata": {
  "kaggle": {
   "accelerator": "none",
   "dataSources": [],
   "dockerImageVersionId": 31089,
   "isGpuEnabled": false,
   "isInternetEnabled": true,
   "language": "python",
   "sourceType": "notebook"
  },
  "kernelspec": {
   "display_name": "Python 3",
   "language": "python",
   "name": "python3"
  },
  "language_info": {
   "codemirror_mode": {
    "name": "ipython",
    "version": 3
   },
   "file_extension": ".py",
   "mimetype": "text/x-python",
   "name": "python",
   "nbconvert_exporter": "python",
   "pygments_lexer": "ipython3",
   "version": "3.11.13"
  },
  "papermill": {
   "default_parameters": {},
   "duration": 9.840274,
   "end_time": "2025-08-21T19:40:47.300751",
   "environment_variables": {},
   "exception": null,
   "input_path": "__notebook__.ipynb",
   "output_path": "__notebook__.ipynb",
   "parameters": {},
   "start_time": "2025-08-21T19:40:37.460477",
   "version": "2.6.0"
  }
 },
 "nbformat": 4,
 "nbformat_minor": 5
}
