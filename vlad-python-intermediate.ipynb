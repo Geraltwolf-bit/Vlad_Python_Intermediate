{
 "cells": [
  {
   "cell_type": "code",
   "execution_count": 1,
   "id": "b787ae09",
   "metadata": {
    "_cell_guid": "b1076dfc-b9ad-4769-8c92-a6c4dae69d19",
    "_uuid": "8f2839f25d086af736a60e9eeb907d3b93b6e0e5",
    "execution": {
     "iopub.execute_input": "2025-08-20T14:50:40.583195Z",
     "iopub.status.busy": "2025-08-20T14:50:40.582891Z",
     "iopub.status.idle": "2025-08-20T14:50:42.575933Z",
     "shell.execute_reply": "2025-08-20T14:50:42.574991Z"
    },
    "papermill": {
     "duration": 1.998424,
     "end_time": "2025-08-20T14:50:42.577579",
     "exception": false,
     "start_time": "2025-08-20T14:50:40.579155",
     "status": "completed"
    },
    "tags": []
   },
   "outputs": [],
   "source": [
    "# This Python 3 environment comes with many helpful analytics libraries installed\n",
    "# It is defined by the kaggle/python Docker image: https://github.com/kaggle/docker-python\n",
    "# For example, here's several helpful packages to load\n",
    "\n",
    "import numpy as np # linear algebra\n",
    "import pandas as pd # data processing, CSV file I/O (e.g. pd.read_csv)\n",
    "\n",
    "# Input data files are available in the read-only \"../input/\" directory\n",
    "# For example, running this (by clicking run or pressing Shift+Enter) will list all files under the input directory\n",
    "\n",
    "import os\n",
    "for dirname, _, filenames in os.walk('/kaggle/input'):\n",
    "    for filename in filenames:\n",
    "        print(os.path.join(dirname, filename))\n",
    "\n",
    "# You can write up to 20GB to the current directory (/kaggle/working/) that gets preserved as output when you create a version using \"Save & Run All\" \n",
    "# You can also write temporary files to /kaggle/temp/, but they won't be saved outside of the current session"
   ]
  },
  {
   "cell_type": "markdown",
   "id": "3ac802f6",
   "metadata": {
    "papermill": {
     "duration": 0.001798,
     "end_time": "2025-08-20T14:50:42.581969",
     "exception": false,
     "start_time": "2025-08-20T14:50:42.580171",
     "status": "completed"
    },
    "tags": []
   },
   "source": [
    "Functions: Task 1: Normalize data"
   ]
  },
  {
   "cell_type": "code",
   "execution_count": 2,
   "id": "dd31c295",
   "metadata": {
    "execution": {
     "iopub.execute_input": "2025-08-20T14:50:42.587554Z",
     "iopub.status.busy": "2025-08-20T14:50:42.587164Z",
     "iopub.status.idle": "2025-08-20T14:50:42.593674Z",
     "shell.execute_reply": "2025-08-20T14:50:42.592590Z"
    },
    "papermill": {
     "duration": 0.011064,
     "end_time": "2025-08-20T14:50:42.595206",
     "exception": false,
     "start_time": "2025-08-20T14:50:42.584142",
     "status": "completed"
    },
    "tags": []
   },
   "outputs": [
    {
     "name": "stdout",
     "output_type": "stream",
     "text": [
      "[0.5, 0.25, 1.0, 0.0, 0.75, 0.375]\n"
     ]
    }
   ],
   "source": [
    "data = [500, 300, 900, 100, 700, 400]\n",
    "\n",
    "def normalize_data(d):\n",
    "  norm_data = []\n",
    "  for i in range(len(data)):\n",
    "    res = (data[i] - min(data)) / (max(data) - min(data))\n",
    "    norm_data.append(res)\n",
    "  return norm_data\n",
    "\n",
    "normalized_data = normalize_data(data)\n",
    "print(normalized_data)"
   ]
  },
  {
   "cell_type": "markdown",
   "id": "7bb3228b",
   "metadata": {
    "papermill": {
     "duration": 0.001882,
     "end_time": "2025-08-20T14:50:42.599375",
     "exception": false,
     "start_time": "2025-08-20T14:50:42.597493",
     "status": "completed"
    },
    "tags": []
   },
   "source": [
    "Functions: Task 2: Wages"
   ]
  },
  {
   "cell_type": "code",
   "execution_count": 3,
   "id": "6d87dd5f",
   "metadata": {
    "execution": {
     "iopub.execute_input": "2025-08-20T14:50:42.604882Z",
     "iopub.status.busy": "2025-08-20T14:50:42.604543Z",
     "iopub.status.idle": "2025-08-20T14:50:42.610599Z",
     "shell.execute_reply": "2025-08-20T14:50:42.609558Z"
    },
    "papermill": {
     "duration": 0.010607,
     "end_time": "2025-08-20T14:50:42.611996",
     "exception": false,
     "start_time": "2025-08-20T14:50:42.601389",
     "status": "completed"
    },
    "tags": []
   },
   "outputs": [
    {
     "name": "stdout",
     "output_type": "stream",
     "text": [
      "3200\n",
      "2450\n"
     ]
    }
   ],
   "source": [
    "def calculate_salary(hours_worked: int, hourly_rate: int, bonus: int = 0):\n",
    "  if hours_worked <= 160:\n",
    "    pay = hourly_rate * hours_worked + bonus\n",
    "  else:\n",
    "    pay = ((hours_worked - 160) * (hourly_rate * 1.5)) + (160 * hourly_rate) + bonus\n",
    "  return pay\n",
    "\n",
    "print(calculate_salary(20, 160))\n",
    "# Expected: 3200\n",
    "\n",
    "print(calculate_salary(15, 150, bonus=200))\n",
    "# Expected: 2450"
   ]
  },
  {
   "cell_type": "markdown",
   "id": "6e6c7060",
   "metadata": {
    "papermill": {
     "duration": 0.001894,
     "end_time": "2025-08-20T14:50:42.616065",
     "exception": false,
     "start_time": "2025-08-20T14:50:42.614171",
     "status": "completed"
    },
    "tags": []
   },
   "source": [
    "Functions: Task 3: User data"
   ]
  },
  {
   "cell_type": "code",
   "execution_count": 4,
   "id": "9c281228",
   "metadata": {
    "execution": {
     "iopub.execute_input": "2025-08-20T14:50:42.621500Z",
     "iopub.status.busy": "2025-08-20T14:50:42.621212Z",
     "iopub.status.idle": "2025-08-20T14:50:42.628411Z",
     "shell.execute_reply": "2025-08-20T14:50:42.627592Z"
    },
    "papermill": {
     "duration": 0.011885,
     "end_time": "2025-08-20T14:50:42.629999",
     "exception": false,
     "start_time": "2025-08-20T14:50:42.618114",
     "status": "completed"
    },
    "tags": []
   },
   "outputs": [
    {
     "name": "stdout",
     "output_type": "stream",
     "text": [
      "User info for Mary:\n",
      "Name: Mary\n",
      "Age: 25\n",
      "Gender: female\n",
      "Income: 100000\n",
      "Location: Dallas\n"
     ]
    }
   ],
   "source": [
    "# storage data\n",
    "users = []\n",
    "\n",
    "#Create the dict where key is name and value is all other arguments provided by the user\n",
    "def add_user(**kwargs):\n",
    "  name = kwargs['name'] #create a variable \"name\" that will serve as a key in the future dictionary where the rest of the info will be stored\n",
    "  user_dict = {name: kwargs} #create a dictionary with key the variable \"name\" and values all other arguments provided to the function\n",
    "  users.append(user_dict) #stuff the global variable list \"users\" with dicts\n",
    "  return users #return the list\n",
    "\n",
    "def get_user_info(user_name):\n",
    "  print(f\"User info for {user_name}:\") #print the headline\n",
    "  for user in users: #loop through the list \"users\"\n",
    "    if user_name in user: #if the provided name is found in one of the dicts in the list \"users\"\n",
    "      user_data = user[user_name] #create new variable \"user_data\" and store there the dict with the key equal to the provided user_name\n",
    "      for key, value in user_data.items(): #break the found dict into items (key, value) and print the pair \"key: value\"\n",
    "        print(f\"{key.capitalize()}: {value}\")\n",
    " \t\t\n",
    "# input\n",
    "add_user(name=\"Alex\", age=30, gender=\"male\", income=50000, location=\"London\")\n",
    "add_user(name=\"Mary\", age=25, gender = 'female', income = 100000, location=\"Dallas\")\n",
    "# User Alex added.\n",
    "# User Mary added.\n",
    "\n",
    "get_user_info(\"Mary\")\n",
    "# User data Alex:\n",
    "#   Name: Alex\n",
    "#   Age: 30\n",
    "#   Gender: male\n",
    "#   Income: 50000\n",
    "#   Location: London"
   ]
  }
 ],
 "metadata": {
  "kaggle": {
   "accelerator": "none",
   "dataSources": [],
   "dockerImageVersionId": 31089,
   "isGpuEnabled": false,
   "isInternetEnabled": true,
   "language": "python",
   "sourceType": "notebook"
  },
  "kernelspec": {
   "display_name": "Python 3",
   "language": "python",
   "name": "python3"
  },
  "language_info": {
   "codemirror_mode": {
    "name": "ipython",
    "version": 3
   },
   "file_extension": ".py",
   "mimetype": "text/x-python",
   "name": "python",
   "nbconvert_exporter": "python",
   "pygments_lexer": "ipython3",
   "version": "3.11.13"
  },
  "papermill": {
   "default_parameters": {},
   "duration": 8.182298,
   "end_time": "2025-08-20T14:50:43.151858",
   "environment_variables": {},
   "exception": null,
   "input_path": "__notebook__.ipynb",
   "output_path": "__notebook__.ipynb",
   "parameters": {},
   "start_time": "2025-08-20T14:50:34.969560",
   "version": "2.6.0"
  }
 },
 "nbformat": 4,
 "nbformat_minor": 5
}
